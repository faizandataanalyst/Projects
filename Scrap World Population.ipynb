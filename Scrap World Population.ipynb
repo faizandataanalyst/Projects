{
 "cells": [
  {
   "cell_type": "markdown",
   "metadata": {},
   "source": [
    "# Scrap World Population Data from Wikipedia"
   ]
  },
  {
   "cell_type": "markdown",
   "metadata": {},
   "source": [
    "## Import libraries"
   ]
  },
  {
   "cell_type": "code",
   "execution_count": 18,
   "metadata": {},
   "outputs": [],
   "source": [
    "import requests\n",
    "from bs4 import BeautifulSoup\n",
    "import pandas as pd"
   ]
  },
  {
   "cell_type": "markdown",
   "metadata": {},
   "source": [
    "## Soup Creation"
   ]
  },
  {
   "cell_type": "code",
   "execution_count": 19,
   "metadata": {},
   "outputs": [
    {
     "name": "stdout",
     "output_type": "stream",
     "text": [
      "<title>World population - Wikipedia</title>\n",
      "World population - Wikipedia\n"
     ]
    }
   ],
   "source": [
    "import requests\n",
    "from bs4 import BeautifulSoup\n",
    "\n",
    "url = \"https://en.wikipedia.org/wiki/World_population\"\n",
    "\n",
    "response = requests.get(url)\n",
    "soup = BeautifulSoup(response.content, 'html.parser')\n",
    "\n",
    "print(soup.title)\n",
    "print(soup.title.text)\n",
    "\n",
    "#print(soup.prettify())  # This line prints the formatted HTML content\n"
   ]
  },
  {
   "cell_type": "markdown",
   "metadata": {},
   "source": [
    "## For loop to find tables"
   ]
  },
  {
   "cell_type": "code",
   "execution_count": 20,
   "metadata": {},
   "outputs": [],
   "source": [
    "\n",
    "tables = soup.find_all(\"table\")\n",
    "\n",
    "dataframes = []  # List to store dataframes\n",
    "\n",
    "for table in tables:\n",
    "    rows = table.find_all('tr')[1:]  ## skip first row \n",
    "    data = []\n",
    "    for row in rows:\n",
    "        cols = row.find_all(\"td\")\n",
    "        cols = [col.text.strip() for col in cols]  # Call strip() method correctly\n",
    "        data.append(cols)\n",
    "    df = pd.DataFrame(data)\n",
    "    dataframes.append(df)"
   ]
  },
  {
   "cell_type": "code",
   "execution_count": 21,
   "metadata": {},
   "outputs": [
    {
     "data": {
      "text/html": [
       "<div>\n",
       "<style scoped>\n",
       "    .dataframe tbody tr th:only-of-type {\n",
       "        vertical-align: middle;\n",
       "    }\n",
       "\n",
       "    .dataframe tbody tr th {\n",
       "        vertical-align: top;\n",
       "    }\n",
       "\n",
       "    .dataframe thead th {\n",
       "        text-align: right;\n",
       "    }\n",
       "</style>\n",
       "<table border=\"1\" class=\"dataframe\">\n",
       "  <thead>\n",
       "    <tr style=\"text-align: right;\">\n",
       "      <th></th>\n",
       "      <th>0</th>\n",
       "      <th>1</th>\n",
       "      <th>2</th>\n",
       "      <th>3</th>\n",
       "      <th>4</th>\n",
       "    </tr>\n",
       "  </thead>\n",
       "  <tbody>\n",
       "    <tr>\n",
       "      <th>0</th>\n",
       "      <td>Asia</td>\n",
       "      <td>104.1</td>\n",
       "      <td>4,641</td>\n",
       "      <td>1,439,090,595 –  India</td>\n",
       "      <td>13,515,000 –  Tokyo Metropolis(37,400,000 –  G...</td>\n",
       "    </tr>\n",
       "    <tr>\n",
       "      <th>1</th>\n",
       "      <td>Africa</td>\n",
       "      <td>44.4</td>\n",
       "      <td>1,340</td>\n",
       "      <td>0,211,401,000 –  Nigeria</td>\n",
       "      <td>09,500,000 –  Cairo(20,076,000 –  Greater Cairo)</td>\n",
       "    </tr>\n",
       "    <tr>\n",
       "      <th>2</th>\n",
       "      <td>Europe</td>\n",
       "      <td>73.4</td>\n",
       "      <td>747</td>\n",
       "      <td>0,146,171,000 –  Russia, approx. 110 million i...</td>\n",
       "      <td>13,200,000 –  Moscow(20,004,000 –  Moscow metr...</td>\n",
       "    </tr>\n",
       "    <tr>\n",
       "      <th>3</th>\n",
       "      <td>Latin America</td>\n",
       "      <td>24.1</td>\n",
       "      <td>653</td>\n",
       "      <td>0,214,103,000 –  Brazil</td>\n",
       "      <td>12,252,000 –  São Paulo City(21,650,000 –  São...</td>\n",
       "    </tr>\n",
       "    <tr>\n",
       "      <th>4</th>\n",
       "      <td>Northern America[note 1]</td>\n",
       "      <td>14.9</td>\n",
       "      <td>368</td>\n",
       "      <td>0,332,909,000 –  United States</td>\n",
       "      <td>08,804,000 –  New York City(23,582,649 –  New ...</td>\n",
       "    </tr>\n",
       "  </tbody>\n",
       "</table>\n",
       "</div>"
      ],
      "text/plain": [
       "                          0      1      2  \\\n",
       "0                      Asia  104.1  4,641   \n",
       "1                    Africa   44.4  1,340   \n",
       "2                    Europe   73.4    747   \n",
       "3             Latin America   24.1    653   \n",
       "4  Northern America[note 1]   14.9    368   \n",
       "\n",
       "                                                   3  \\\n",
       "0                             1,439,090,595 –  India   \n",
       "1                           0,211,401,000 –  Nigeria   \n",
       "2  0,146,171,000 –  Russia, approx. 110 million i...   \n",
       "3                            0,214,103,000 –  Brazil   \n",
       "4                     0,332,909,000 –  United States   \n",
       "\n",
       "                                                   4  \n",
       "0  13,515,000 –  Tokyo Metropolis(37,400,000 –  G...  \n",
       "1   09,500,000 –  Cairo(20,076,000 –  Greater Cairo)  \n",
       "2  13,200,000 –  Moscow(20,004,000 –  Moscow metr...  \n",
       "3  12,252,000 –  São Paulo City(21,650,000 –  São...  \n",
       "4  08,804,000 –  New York City(23,582,649 –  New ...  "
      ]
     },
     "execution_count": 21,
     "metadata": {},
     "output_type": "execute_result"
    }
   ],
   "source": [
    "dataframes[3].head()"
   ]
  },
  {
   "cell_type": "markdown",
   "metadata": {},
   "source": [
    "## Save the Scrapped Data"
   ]
  },
  {
   "cell_type": "code",
   "execution_count": 17,
   "metadata": {},
   "outputs": [],
   "source": [
    "dataframes[1].to_csv('World Population_Scrapped.csv', index = False, header = True)"
   ]
  }
 ],
 "metadata": {
  "kernelspec": {
   "display_name": "Python 3",
   "language": "python",
   "name": "python3"
  },
  "language_info": {
   "codemirror_mode": {
    "name": "ipython",
    "version": 3
   },
   "file_extension": ".py",
   "mimetype": "text/x-python",
   "name": "python",
   "nbconvert_exporter": "python",
   "pygments_lexer": "ipython3",
   "version": "3.12.2"
  }
 },
 "nbformat": 4,
 "nbformat_minor": 2
}
