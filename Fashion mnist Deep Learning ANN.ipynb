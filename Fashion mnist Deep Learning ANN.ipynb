{
 "cells": [
  {
   "cell_type": "markdown",
   "metadata": {},
   "source": [
    "# Deep Learning"
   ]
  },
  {
   "cell_type": "code",
   "execution_count": 2,
   "metadata": {},
   "outputs": [],
   "source": [
    "import tensorflow as tf\n",
    "from tensorflow.keras import layers, models\n",
    "import matplotlib.pyplot as plt\n",
    "from tensorflow.keras.models import Sequential\n",
    "from tensorflow.keras.layers import Dense\n",
    "from tensorflow.keras.utils import to_categorical\n",
    "\n",
    "fashion_mnist = tf.keras.datasets.fashion_mnist\n",
    "\n"
   ]
  },
  {
   "cell_type": "code",
   "execution_count": 3,
   "metadata": {},
   "outputs": [],
   "source": [
    "(x_train, y_train), (x_test, y_test)= fashion_mnist.load_data()"
   ]
  },
  {
   "cell_type": "markdown",
   "metadata": {},
   "source": [
    "## Display Dataset Sample"
   ]
  },
  {
   "cell_type": "code",
   "execution_count": 4,
   "metadata": {},
   "outputs": [
    {
     "data": {
      "image/png": "[encoded data removed]",
      "text/plain": [
       "<Figure size 2000x400 with 10 Axes>"
      ]
     },
     "metadata": {},
     "output_type": "display_data"
    }
   ],
   "source": [
    "import matplotlib.pyplot as plt\n",
    "\n",
    "# Number of images to display \n",
    "n = 10\n",
    "\n",
    "# Create a figure to display the images\n",
    "plt.figure(figsize=(20, 4))\n",
    "\n",
    "# Loop through the first \"n\" images\n",
    "for i in range(n):\n",
    "    # Create a subplot within the figure\n",
    "    ax = plt.subplot(2, n, i + 1)\n",
    "\n",
    "    # Display the original image (Corrected Reshape)\n",
    "    plt.imshow(x_test[i].reshape(28, 28), cmap=\"gray\")  \n",
    "\n",
    "    # Hide x-axis and y-axis labels and ticks\n",
    "    ax.get_xaxis().set_visible(False)\n",
    "    ax.get_yaxis().set_visible(False)\n",
    "\n",
    "# Show all images in one figure (move plt.show() outside the loop)\n",
    "plt.show()\n"
   ]
  },
  {
   "cell_type": "markdown",
   "metadata": {},
   "source": [
    "## Flattening the Images"
   ]
  },
  {
   "cell_type": "code",
   "execution_count": 73,
   "metadata": {},
   "outputs": [
    {
     "name": "stdout",
     "output_type": "stream",
     "text": [
      "Previous x_train shape: (60000, 28, 28) \n",
      "Previous y_train shape: (60000,)\n"
     ]
    }
   ],
   "source": [
    "# Print the shapes of the original training data and labels\n",
    "print(\"Previous x_train shape: {} \\nPrevious y_train shape: {}\".format(x_train.shape, y_train.shape))\n",
    "\n",
    "# Reshape training and testing data to a flat format (flattening the images)\n",
    "x_train = x_train.reshape(60000, 784)\n",
    "x_test = x_test.reshape(10000, 784)"
   ]
  },
  {
   "cell_type": "markdown",
   "metadata": {},
   "source": [
    "## MinMax Scaling"
   ]
  },
  {
   "cell_type": "code",
   "execution_count": 74,
   "metadata": {},
   "outputs": [],
   "source": [
    "# Convert the data from image to float\n",
    "x_train = x_train.astype('float32') \n",
    "x_test = x_test.astype('float32') \n",
    "\n",
    "#  Normalize the pixel values to a range between 0 and 1,\n",
    "#  Zero is for Black and 1 for White\n",
    "x_train /= 255\n",
    "x_test /= 255"
   ]
  },
  {
   "cell_type": "code",
   "execution_count": 75,
   "metadata": {},
   "outputs": [
    {
     "name": "stdout",
     "output_type": "stream",
     "text": [
      "New x_train shape: (60000, 784) \n",
      "New y_train shape: (60000, 10)\n"
     ]
    }
   ],
   "source": [
    "# Number of classes in the dataset\n",
    "classes = 10\n",
    "# Convert the labels to one-hot encoded format\n",
    "y_train = to_categorical(y_train, classes)\n",
    "y_test = to_categorical(y_test, classes)\n",
    "\n",
    "# Print the shapes of the preprocessed training data and labels\n",
    "print(\"New x_train shape: {} \\nNew y_train shape: {}\".format(x_train.shape, y_train.shape))\n"
   ]
  },
  {
   "cell_type": "markdown",
   "metadata": {},
   "source": [
    "## Defining ANN Architecture"
   ]
  },
  {
   "cell_type": "code",
   "execution_count": 76,
   "metadata": {},
   "outputs": [],
   "source": [
    "input_size = 784\n",
    "batch_size = 500\n",
    "hidden1 = 400\n",
    "hidden2 = 300\n",
    "hidden3 = 200\n",
    "hidden4 = 100\n",
    "hidden5 = 50\n",
    "hidden6 = 20\n",
    "classes =10\n",
    "epochs = 40"
   ]
  },
  {
   "cell_type": "code",
   "execution_count": 78,
   "metadata": {},
   "outputs": [
    {
     "name": "stdout",
     "output_type": "stream",
     "text": [
      "Model: \"sequential_7\"\n",
      "_________________________________________________________________\n",
      " Layer (type)                Output Shape              Param #   \n",
      "=================================================================\n",
      " dense_45 (Dense)            (None, 400)               314000    \n",
      "                                                                 \n",
      " dense_46 (Dense)            (None, 300)               120300    \n",
      "                                                                 \n",
      " dense_47 (Dense)            (None, 200)               60200     \n",
      "                                                                 \n",
      " dense_48 (Dense)            (None, 100)               20100     \n",
      "                                                                 \n",
      " dense_49 (Dense)            (None, 50)                5050      \n",
      "                                                                 \n",
      " dense_50 (Dense)            (None, 20)                1020      \n",
      "                                                                 \n",
      " dense_51 (Dense)            (None, 10)                210       \n",
      "                                                                 \n",
      "=================================================================\n",
      "Total params: 520,880\n",
      "Trainable params: 520,880\n",
      "Non-trainable params: 0\n",
      "_________________________________________________________________\n"
     ]
    }
   ],
   "source": [
    "model = Sequential() # used to define movement of the data through model\n",
    "\n",
    "model.add(Dense(hidden1, input_dim = input_size, activation= 'relu'))\n",
    "\n",
    "model.add(Dense(hidden2, activation='relu'))\n",
    "\n",
    "model.add(Dense(hidden3, activation='relu'))\n",
    "\n",
    "model.add(Dense(hidden4, activation='relu'))\n",
    "\n",
    "model.add(Dense(hidden5, activation='relu'))\n",
    "\n",
    "model.add(Dense(hidden6, activation='relu'))\n",
    "\n",
    "model.add(Dense(classes, activation='softmax'))\n",
    "\n",
    "# Compilation\n",
    "model.compile(loss=\"categorical_crossentropy\",\n",
    "              metrics=['accuracy'], optimizer='sgd')\n",
    "\n",
    "model.summary()\n",
    "\n"
   ]
  },
  {
   "cell_type": "markdown",
   "metadata": {},
   "source": [
    "## Model Training"
   ]
  },
  {
   "cell_type": "code",
   "execution_count": 79,
   "metadata": {},
   "outputs": [
    {
     "name": "stdout",
     "output_type": "stream",
     "text": [
      "Epoch 1/40\n",
      "120/120 [==============================] - 9s 51ms/step - loss: 2.1408 - accuracy: 0.2016\n",
      "Epoch 2/40\n",
      "120/120 [==============================] - 7s 57ms/step - loss: 1.5452 - accuracy: 0.5293\n",
      "Epoch 3/40\n",
      "120/120 [==============================] - 6s 47ms/step - loss: 0.9748 - accuracy: 0.6562\n",
      "Epoch 4/40\n",
      "120/120 [==============================] - 7s 57ms/step - loss: 0.7986 - accuracy: 0.7106\n",
      "Epoch 5/40\n",
      "120/120 [==============================] - 6s 49ms/step - loss: 0.7192 - accuracy: 0.7466\n",
      "Epoch 6/40\n",
      "120/120 [==============================] - 5s 41ms/step - loss: 0.6590 - accuracy: 0.7678\n",
      "Epoch 7/40\n",
      "120/120 [==============================] - 5s 38ms/step - loss: 0.6063 - accuracy: 0.7871\n",
      "Epoch 8/40\n",
      "120/120 [==============================] - 4s 36ms/step - loss: 0.5918 - accuracy: 0.7918\n",
      "Epoch 9/40\n",
      "120/120 [==============================] - 4s 33ms/step - loss: 0.5595 - accuracy: 0.8049\n",
      "Epoch 10/40\n",
      "120/120 [==============================] - 5s 38ms/step - loss: 0.5394 - accuracy: 0.8103\n",
      "Epoch 11/40\n",
      "120/120 [==============================] - 6s 49ms/step - loss: 0.5193 - accuracy: 0.8182\n",
      "Epoch 12/40\n",
      "120/120 [==============================] - 8s 63ms/step - loss: 0.5148 - accuracy: 0.8188\n",
      "Epoch 13/40\n",
      "120/120 [==============================] - 7s 59ms/step - loss: 0.4980 - accuracy: 0.8257\n",
      "Epoch 14/40\n",
      "120/120 [==============================] - 6s 52ms/step - loss: 0.4902 - accuracy: 0.8270\n",
      "Epoch 15/40\n",
      "120/120 [==============================] - 8s 70ms/step - loss: 0.4790 - accuracy: 0.8313\n",
      "Epoch 16/40\n",
      "120/120 [==============================] - 5s 44ms/step - loss: 0.4677 - accuracy: 0.8350\n",
      "Epoch 17/40\n",
      "120/120 [==============================] - 4s 37ms/step - loss: 0.4668 - accuracy: 0.8365\n",
      "Epoch 18/40\n",
      "120/120 [==============================] - 5s 42ms/step - loss: 0.4580 - accuracy: 0.8384\n",
      "Epoch 19/40\n",
      "120/120 [==============================] - 4s 35ms/step - loss: 0.4475 - accuracy: 0.8413\n",
      "Epoch 20/40\n",
      "120/120 [==============================] - 7s 56ms/step - loss: 0.4399 - accuracy: 0.8439\n",
      "Epoch 21/40\n",
      "120/120 [==============================] - 8s 66ms/step - loss: 0.4367 - accuracy: 0.8469\n",
      "Epoch 22/40\n",
      "120/120 [==============================] - 7s 56ms/step - loss: 0.4287 - accuracy: 0.8478\n",
      "Epoch 23/40\n",
      "120/120 [==============================] - 7s 54ms/step - loss: 0.4308 - accuracy: 0.8469\n",
      "Epoch 24/40\n",
      "120/120 [==============================] - 9s 78ms/step - loss: 0.4157 - accuracy: 0.8529\n",
      "Epoch 25/40\n",
      "120/120 [==============================] - 9s 78ms/step - loss: 0.4148 - accuracy: 0.8526\n",
      "Epoch 26/40\n",
      "120/120 [==============================] - 10s 82ms/step - loss: 0.4106 - accuracy: 0.8548\n",
      "Epoch 27/40\n",
      "120/120 [==============================] - 8s 67ms/step - loss: 0.4031 - accuracy: 0.8575\n",
      "Epoch 28/40\n",
      "120/120 [==============================] - 6s 52ms/step - loss: 0.4009 - accuracy: 0.8584\n",
      "Epoch 29/40\n",
      "120/120 [==============================] - 6s 48ms/step - loss: 0.3977 - accuracy: 0.8591\n",
      "Epoch 30/40\n",
      "120/120 [==============================] - 8s 66ms/step - loss: 0.3940 - accuracy: 0.8597\n",
      "Epoch 31/40\n",
      "120/120 [==============================] - 6s 49ms/step - loss: 0.3868 - accuracy: 0.8626\n",
      "Epoch 32/40\n",
      "120/120 [==============================] - 8s 71ms/step - loss: 0.3838 - accuracy: 0.8630\n",
      "Epoch 33/40\n",
      "120/120 [==============================] - 7s 55ms/step - loss: 0.3794 - accuracy: 0.8642\n",
      "Epoch 34/40\n",
      "120/120 [==============================] - 9s 76ms/step - loss: 0.3827 - accuracy: 0.8642\n",
      "Epoch 35/40\n",
      "120/120 [==============================] - 8s 68ms/step - loss: 0.3759 - accuracy: 0.8666\n",
      "Epoch 36/40\n",
      "120/120 [==============================] - 8s 70ms/step - loss: 0.3713 - accuracy: 0.8673\n",
      "Epoch 37/40\n",
      "120/120 [==============================] - 9s 77ms/step - loss: 0.3706 - accuracy: 0.8669\n",
      "Epoch 38/40\n",
      "120/120 [==============================] - 7s 62ms/step - loss: 0.3680 - accuracy: 0.8695\n",
      "Epoch 39/40\n",
      "120/120 [==============================] - 6s 52ms/step - loss: 0.3658 - accuracy: 0.8687\n",
      "Epoch 40/40\n",
      "120/120 [==============================] - 8s 70ms/step - loss: 0.3580 - accuracy: 0.8715\n",
      "Model Training Took 273.6953921318054 Secs\n"
     ]
    }
   ],
   "source": [
    "from time import time\n",
    "\n",
    "tic = time()\n",
    "\n",
    "model.fit(x_train, y_train, batch_size=batch_size, epochs=epochs, verbose=1)\n",
    "\n",
    "toc = time()\n",
    "\n",
    "print(\"Model Training Took {} Secs\".format(toc - tic))\n"
   ]
  },
  {
   "cell_type": "markdown",
   "metadata": {},
   "source": [
    "## Accuracy"
   ]
  },
  {
   "cell_type": "code",
   "execution_count": 82,
   "metadata": {},
   "outputs": [
    {
     "name": "stdout",
     "output_type": "stream",
     "text": [
      "\n",
      "Test Accuracy 0.8164\n"
     ]
    }
   ],
   "source": [
    "import numpy as np\n",
    "from sklearn.metrics import accuracy_score\n",
    "y_pred_probs = model.predict(x_test, verbose=0)\n",
    "y_pred = np.where(y_pred_probs > 0.5, 1,0)\n",
    "\n",
    "test_accuracy = accuracy_score(y_pred, y_test)\n",
    "print('\\nTest Accuracy {}'.format(test_accuracy))"
   ]
  },
  {
   "cell_type": "code",
   "execution_count": 83,
   "metadata": {},
   "outputs": [
    {
     "name": "stdout",
     "output_type": "stream",
     "text": [
      "1/1 [==============================] - 0s 73ms/step\n"
     ]
    }
   ],
   "source": [
    "mask = range(20, 50)\n",
    "\n",
    "x_valid =x_test[0:20]\n",
    "actual_labels = y_test[0:20]\n",
    "\n",
    "y_pred_probs_valid = model.predict(x_valid)\n",
    "y_pred_valid = np.where(y_pred_probs_valid > 0.5, 1, 0)"
   ]
  },
  {
   "cell_type": "markdown",
   "metadata": {},
   "source": [
    "## Plotting the Results"
   ]
  },
  {
   "cell_type": "code",
   "execution_count": 90,
   "metadata": {},
   "outputs": [
    {
     "data": {
      "image/png": "[encoded data removed]",
      "text/plain": [
       "<Figure size 1200x600 with 20 Axes>"
      ]
     },
     "metadata": {},
     "output_type": "display_data"
    }
   ],
   "source": [
    "import matplotlib.pyplot as plt\n",
    "import numpy as np\n",
    "\n",
    "plt.figure(figsize=(12, 6))\n",
    "\n",
    "n = len(x_valid)\n",
    "\n",
    "for i in range(n):\n",
    "    # Display the image\n",
    "    ax = plt.subplot(2, n, i + 1)  # Arrange in a grid of 2 rows, n columns\n",
    "    plt.imshow(x_valid[i].reshape(28, 28), cmap='gray')  # Adjust shape if necessary\n",
    "    plt.axis('off')  # Hide axes\n",
    "\n",
    "    # Get the predicted label\n",
    "    predicted_digit = np.argmax(y_pred_probs_valid[i])\n",
    "\n",
    "    # Add prediction text to the image\n",
    "    plt.text(14, 14, str(predicted_digit), fontsize=12, ha='center', va='center', color='red', bbox=dict(facecolor='white', alpha=0.6))\n",
    "\n",
    "plt.show()\n",
    "plt.close()\n"
   ]
  },
  {
   "cell_type": "code",
   "execution_count": null,
   "metadata": {},
   "outputs": [],
   "source": []
  }
 ],
 "metadata": {
  "kernelspec": {
   "display_name": "ai_env",
   "language": "python",
   "name": "python3"
  },
  "language_info": {
   "codemirror_mode": {
    "name": "ipython",
    "version": 3
   },
   "file_extension": ".py",
   "mimetype": "text/x-python",
   "name": "python",
   "nbconvert_exporter": "python",
   "pygments_lexer": "ipython3",
   "version": "3.8.20"
  }
 },
 "nbformat": 4,
 "nbformat_minor": 2
}
